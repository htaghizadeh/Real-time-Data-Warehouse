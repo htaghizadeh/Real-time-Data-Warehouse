{
  "metadata" : {
    "config" : {
      "dependencies" : {
        "scala" : [
          "io.delta:delta-core_2.12:1.0.0",
          "org.apache.spark:spark-sql-kafka-0-10_2.12:3.1.2"
        ]
      },
      "exclusions" : [
      ],
      "repositories" : [
      ],
      "sparkConfig" : {
        "spark.sql.extensions" : "io.delta.sql.DeltaSparkSessionExtension",
        "spark.sql.catalog.spark_catalog" : "org.apache.spark.sql.delta.catalog.DeltaCatalog"
      },
      "env" : {
        
      }
    },
    "language_info" : {
      "name" : "scala"
    }
  },
  "nbformat" : 4,
  "nbformat_minor" : 0,
  "cells" : [
    {
      "cell_type" : "markdown",
      "execution_count" : 0,
      "metadata" : {
        "language" : "text"
      },
      "language" : "text",
      "source" : [
        "# <br>\n",
        "\n",
        "\n"
      ],
      "outputs" : [
      ]
    },
    {
      "cell_type" : "code",
      "execution_count" : 1,
      "metadata" : {
        "cell.metadata.exec_info" : {
          "startTs" : 1628688170370,
          "endTs" : 1628688171076
        },
        "language" : "scala"
      },
      "language" : "scala",
      "source" : [
        "spark.version"
      ],
      "outputs" : [
        {
          "execution_count" : 1,
          "data" : {
            "text/plain" : [
              "3.1.2"
            ]
          },
          "metadata" : {
            "name" : "Out",
            "type" : "String"
          },
          "output_type" : "execute_result"
        }
      ]
    },
    {
      "cell_type" : "code",
      "execution_count" : 2,
      "metadata" : {
        "cell.metadata.exec_info" : {
          "startTs" : 1628688195273,
          "endTs" : 1628688205613
        },
        "language" : "scala"
      },
      "language" : "scala",
      "source" : [
        "val data = spark.range(0, 5)\n",
        "data.write.format(\"delta\").save(\"/tmp/delta\")"
      ],
      "outputs" : [
      ]
    },
    {
      "cell_type" : "code",
      "execution_count" : 3,
      "metadata" : {
        "cell.metadata.exec_info" : {
          "startTs" : 1628688207765,
          "endTs" : 1628688209605
        },
        "language" : "scala"
      },
      "language" : "scala",
      "source" : [
        "val df = spark.read.format(\"delta\").load(\"/tmp/delta\")\n",
        "df.show()"
      ],
      "outputs" : [
        {
          "name" : "stdout",
          "text" : [
            "+---+\n",
            "| id|\n",
            "+---+\n",
            "|  3|\n",
            "|  4|\n",
            "|  1|\n",
            "|  2|\n",
            "|  0|\n",
            "+---+\n",
            "\n"
          ],
          "output_type" : "stream"
        }
      ]
    },
    {
      "cell_type" : "code",
      "execution_count" : 4,
      "metadata" : {
        "cell.metadata.exec_info" : {
          "startTs" : 1628688212072,
          "endTs" : 1628688217629
        },
        "language" : "sql"
      },
      "language" : "sql",
      "source" : [
        "SELECT * from delta.`/tmp/delta`"
      ],
      "outputs" : [
        {
          "execution_count" : 4,
          "data" : {
            "text/plain" : [
              "[id: bigint]"
            ]
          },
          "metadata" : {
            "name" : "Out",
            "type" : "DataFrame"
          },
          "output_type" : "execute_result"
        }
      ]
    }
  ]
}