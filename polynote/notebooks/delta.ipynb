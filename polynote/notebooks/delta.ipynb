{
  "metadata" : {
    "config" : {
      "dependencies" : {
        "scala" : [
          "io.delta:delta-core_2.12:1.0.0",
          "org.apache.spark:spark-sql-kafka-0-10_2.12:3.1.2"
        ]
      },
      "exclusions" : [
      ],
      "repositories" : [
      ],
      "sparkConfig" : {
        "spark.sql.extensions" : "io.delta.sql.DeltaSparkSessionExtension",
        "spark.sql.catalog.spark_catalog" : "org.apache.spark.sql.delta.catalog.DeltaCatalog"
      },
      "env" : {
        
      }
    },
    "language_info" : {
      "name" : "scala"
    }
  },
  "nbformat" : 4,
  "nbformat_minor" : 0,
  "cells" : [
    {
      "cell_type" : "markdown",
      "execution_count" : 0,
      "metadata" : {
        "language" : "text"
      },
      "language" : "text",
      "source" : [
        "# Real-time Data Warehouse with Apache Spark & Delta<br>\n",
        "\n",
        "\n"
      ],
      "outputs" : [
      ]
    },
    {
      "cell_type" : "code",
      "execution_count" : 1,
      "metadata" : {
        "cell.metadata.exec_info" : {
          "startTs" : 1625308850344,
          "endTs" : 1625308851000
        },
        "language" : "scala"
      },
      "language" : "scala",
      "source" : [
        "spark.version"
      ],
      "outputs" : [
        {
          "execution_count" : 1,
          "data" : {
            "text/plain" : [
              "3.1.2"
            ]
          },
          "metadata" : {
            "name" : "Out",
            "type" : "String"
          },
          "output_type" : "execute_result"
        }
      ]
    },
    {
      "cell_type" : "code",
      "execution_count" : 2,
      "metadata" : {
        "cell.metadata.exec_info" : {
          "startTs" : 1625309338759,
          "endTs" : 1625309339063
        },
        "language" : "scala"
      },
      "language" : "scala",
      "source" : [
        "val datasource_accident_claims = spark\n",
        "  .readStream\n",
        "  .format(\"kafka\")\n",
        "  .option(\"kafka.bootstrap.servers\", \"kafka:9092\")\n",
        "  .option(\"subscribe\", \"pg_claims.claims.accident_claims\")\n",
        "  .load()"
      ],
      "outputs" : [
      ]
    },
    {
      "cell_type" : "code",
      "execution_count" : 3,
      "metadata" : {
        "language" : "viz"
      },
      "language" : "viz",
      "source" : [
        "{\"type\":\"data\",\"value\":\"Out\"}"
      ],
      "outputs" : [
        {
          "data" : {
            "text/html" : [
              "<div class=\"table-view\"><table class=\"\"><thead class=\"\"><tr class=\"\"><th class=\"name\">name: string?</th><th class=\"database\">database: string?</th><th class=\"description\">description: string?</th><th class=\"tableType\">tableType: string?</th><th class=\"isTemporary\">isTemporary: boolean</th></tr></thead><tbody class=\"\"><tr class=\"initial-msg\"><td class=\"\" colspan=\"5\">Click \"next page\" (<span class=\"fas icon\">step-forward</span>) to load data.<br class=\"\">This will force evaluation of lazy data.</td></tr></tbody></table></div>"
            ]
          },
          "output_type" : "display_data"
        }
      ]
    },
    {
      "cell_type" : "code",
      "execution_count" : 4,
      "metadata" : {
        "cell.metadata.exec_info" : {
          "startTs" : 1625309345673,
          "endTs" : 1625309346185
        },
        "language" : "scala"
      },
      "language" : "scala",
      "source" : [
        "datasource_accident_claims.selectExpr(\"CAST(key AS STRING)\", \"CAST(value AS STRING)\")\n",
        "  .as[(String, String)]"
      ],
      "outputs" : [
        {
          "execution_count" : 4,
          "data" : {
            "text/plain" : [
              "[key: string, value: string]"
            ]
          },
          "metadata" : {
            "name" : "Out",
            "type" : "Dataset[Tuple2[String, String]]"
          },
          "output_type" : "execute_result"
        }
      ]
    },
    {
      "cell_type" : "code",
      "execution_count" : 11,
      "metadata" : {
        "language" : "viz"
      },
      "language" : "viz",
      "source" : [
        "{\"type\":\"table\",\"value\":\"Out\"}"
      ],
      "outputs" : [
        {
          "data" : {
            "text/html" : [
              "<div class=\"table-view\"><table class=\"\"><thead class=\"\"><tr class=\"\"><th class=\"key\">key: string?</th><th class=\"value\">value: string?</th></tr></thead><tbody class=\"\"><tr class=\"initial-msg\"><td class=\"\" colspan=\"2\">Click \"next page\" (<span class=\"fas icon\">step-forward</span>) to load data.<br class=\"\">This will force evaluation of lazy data.</td></tr></tbody></table></div>"
            ]
          },
          "output_type" : "display_data"
        }
      ]
    },
    {
      "cell_type" : "code",
      "execution_count" : 10,
      "metadata" : {
        "language" : "viz"
      },
      "language" : "viz",
      "source" : [
        "{\"type\":\"plot\",\"value\":\"Out\"}"
      ],
      "outputs" : [
      ]
    },
    {
      "cell_type" : "code",
      "execution_count" : 9,
      "metadata" : {
        "language" : "viz"
      },
      "language" : "viz",
      "source" : [
        "{\"type\":\"table\",\"value\":\"Out\"}"
      ],
      "outputs" : [
        {
          "data" : {
            "text/html" : [
              "<div class=\"table-view\"><table class=\"\"><thead class=\"\"><tr class=\"\"><th class=\"key\">key: string?</th><th class=\"value\">value: string?</th></tr></thead><tbody class=\"\"><tr class=\"initial-msg\"><td class=\"\" colspan=\"2\">Click \"next page\" (<span class=\"fas icon\">step-forward</span>) to load data.<br class=\"\">This will force evaluation of lazy data.</td></tr></tbody></table></div>"
            ]
          },
          "output_type" : "display_data"
        }
      ]
    },
    {
      "cell_type" : "code",
      "execution_count" : 8,
      "metadata" : {
        "language" : "viz"
      },
      "language" : "viz",
      "source" : [
        "{\"type\":\"plot\",\"value\":\"Out\",\"plotDefinition\":{\"value\":\"Out\",\"title\":\"Out\",\"forceZero\":true,\"plot\":{\"type\":\"bar\",\"x\":{\"field\":\"key\"},\"y\":{\"series\":[]},\"stacked\":true}}}"
      ],
      "outputs" : [
        {
          "data" : {
            "text/plain" : [
              "[key: string, value: string]"
            ]
          },
          "output_type" : "display_data"
        }
      ]
    },
    {
      "cell_type" : "code",
      "execution_count" : 5,
      "metadata" : {
        "cell.metadata.exec_info" : {
          "startTs" : 1625309585545,
          "endTs" : 1625309585729
        },
        "language" : "scala"
      },
      "language" : "scala",
      "source" : [
        "datasource_accident_claims.repartition(2).write.mode(\"overwrite\").format(\"delta\").option(\"path\", \"/dwd/datasource_accident_claims\").saveAsTable(\"datasource_accident_claims\")"
      ],
      "outputs" : [
        {
          "ename" : "org.apache.spark.sql.AnalysisException",
          "evalue" : "'write' can not be called on streaming Dataset/DataFrame",
          "traceback" : [
            "org.apache.spark.sql.catalyst.analysis.package$AnalysisErrorAt,failAnalysis,package.scala,42",
            "org.apache.spark.sql.Dataset,write,Dataset.scala,3370",
            "notebook0.Cell5$16,<init>,Cell5,1",
            "jdk.internal.reflect.NativeConstructorAccessorImpl,newInstance0,NativeConstructorAccessorImpl.java,-2",
            "jdk.internal.reflect.NativeConstructorAccessorImpl,newInstance,NativeConstructorAccessorImpl.java,62",
            "jdk.internal.reflect.DelegatingConstructorAccessorImpl,newInstance,DelegatingConstructorAccessorImpl.java,45",
            "java.lang.reflect.Constructor,newInstance,Constructor.java,490",
            "polynote.kernel.interpreter.scal.ScalaInterpreter,createInstance,ScalaInterpreter.scala,161",
            "polynote.kernel.interpreter.scal.ScalaInterpreter,$anonfun$runClass$4,ScalaInterpreter.scala,173",
            "zio.blocking.package$Blocking$Service,$anonfun$effectBlockingInterrupt$5,package.scala,126",
            "zio.ZIO$,$anonfun$effectSuspend$1,ZIO.scala,2678",
            "zio.internal.FiberContext,liftedTree1$1,FiberContext.scala,571",
            "zio.internal.FiberContext,evaluateNow,FiberContext.scala,571",
            "zio.internal.FiberContext,$anonfun$fork$17,FiberContext.scala,769",
            "polynote.kernel.interpreter.CellExecutor$$anon$1,$anonfun$run$2,CellExecutor.scala,33",
            "scala.runtime.java8.JFunction0$mcV$sp,apply,JFunction0$mcV$sp.java,23",
            "scala.util.DynamicVariable,withValue,DynamicVariable.scala,62",
            "scala.Console$,withOut,Console.scala,167",
            "polynote.kernel.interpreter.CellExecutor$$anon$1,$anonfun$run$1,CellExecutor.scala,33",
            "scala.runtime.java8.JFunction0$mcV$sp,apply,JFunction0$mcV$sp.java,23",
            "polynote.kernel.package$,withContextClassLoader,package.scala,95",
            "polynote.kernel.interpreter.CellExecutor$$anon$1,run,CellExecutor.scala,31",
            "java.util.concurrent.ThreadPoolExecutor,runWorker,ThreadPoolExecutor.java,1128",
            "java.util.concurrent.ThreadPoolExecutor$Worker,run,ThreadPoolExecutor.java,628",
            "java.lang.Thread,run,Thread.java,829"
          ],
          "output_type" : "error"
        }
      ]
    }
  ]
}